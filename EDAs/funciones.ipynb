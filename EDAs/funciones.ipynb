{
 "cells": [
  {
   "cell_type": "code",
   "execution_count": 2,
   "metadata": {},
   "outputs": [
    {
     "name": "stderr",
     "output_type": "stream",
     "text": [
      "Matplotlib is building the font cache; this may take a moment.\n"
     ]
    }
   ],
   "source": [
    "import pandas as pd \n",
    "import numpy as np \n",
    "import matplotlib.pyplot as plt \n",
    "import seaborn as sns\n",
    "import warnings\n",
    "import ast\n",
    "warnings.filterwarnings('ignore')\n",
    "from langdetect import detect\n",
    "import re\n",
    "from scipy import stats"
   ]
  },
  {
   "cell_type": "markdown",
   "metadata": {},
   "source": [
    "# FUNCIÓN PARA LIMPIAR DATASETS, AÑADIR COLUMNAS DE NOMBRES DE DISTRITOS Y EXPORTARLOS."
   ]
  },
  {
   "cell_type": "markdown",
   "metadata": {},
   "source": [
    "Process_and_clean_dataset_yellow procesa los datasets de yellow trip. "
   ]
  },
  {
   "cell_type": "markdown",
   "metadata": {},
   "source": [
    "Process_and_clean_dataset_green y Process_and_clean_dataset_gr procesan los datasets de green trip"
   ]
  },
  {
   "cell_type": "code",
   "execution_count": 181,
   "metadata": {},
   "outputs": [],
   "source": [
    "import pandas as pd\n",
    "\n",
    "def process_and_clean_dataset_yellow(file_path, output_path):\n",
    "    # Cargar el archivo CSV\n",
    "    df = pd.read_parquet(file_path)\n",
    "\n",
    "    # Definir el diccionario de mapeo\n",
    "    pulocationid_to_borough = {\n",
    "        161: 'Queens',43: 'Bronx',48: 'Manhattan',138: 'Queens',107: 'Brooklyn',239: 'Manhattan',142: 'Queens',164: 'Brooklyn',\n",
    "        141: 'Queens',234: 'Manhattan',79: 'Brooklyn',33: 'Brooklyn',90: 'Brooklyn',113: 'Queens',237: 'Manhattan',143: 'Queens',\n",
    "        137: 'Queens',132: 'Queens',163: 'Brooklyn',68: 'Brooklyn',263: 'Manhattan',170: 'Brooklyn',233: 'Manhattan',236: 'Queens',\n",
    "        144: 'Queens',229: 'Manhattan',249: 'Manhattan',162: 'Queens',224: 'Manhattan',151: 'Queens',211: 'Manhattan',148: 'Queens',\n",
    "        238: 'Manhattan',231: 'Manhattan',13: 'Manhattan',262: 'Manhattan',75: 'Brooklyn',264: 'Manhattan',125: 'Queens',186: 'Queens',\n",
    "        158: 'Queens',246: 'Manhattan',50: 'Brooklyn',4: 'Manhattan',87: 'Brooklyn',114: 'Queens',24: 'Manhattan',166: 'Brooklyn',\n",
    "        41: 'Manhattan',25: 'Manhattan',194: 'Manhattan',74: 'Brooklyn',140: 'Queens',146: 'Queens',65: 'Brooklyn',181: 'Brooklyn',\n",
    "        255: 'Manhattan',256: 'Manhattan',88: 'Brooklyn',232: 'Manhattan',193: 'Manhattan',226: 'Manhattan',97: 'Brooklyn',\n",
    "        197: 'Manhattan',37: 'Manhattan',189: 'Queens',261: 'Manhattan',225: 'Manhattan',244: 'Manhattan',45: 'Manhattan',40: 'Manhattan',\n",
    "        116: 'Queens',80: 'Brooklyn',209: 'Manhattan',243: 'Manhattan',60: 'Brooklyn',265: 'Manhattan',100: 'Brooklyn',70: 'Brooklyn',\n",
    "        188: 'Queens',52: 'Brooklyn',7: 'Manhattan',159: 'Queens',66: 'Brooklyn',42: 'Manhattan',174: 'Queens',215: 'Manhattan',\n",
    "        252: 'Manhattan',136: 'Queens',223: 'Manhattan',93: 'Brooklyn',12: 'Manhattan',39: 'Manhattan',122: 'Queens',195: 'Manhattan',\n",
    "        61: 'Brooklyn',112: 'Queens',230: 'Manhattan',82: 'Brooklyn',106: 'Brooklyn',228: 'Manhattan',179: 'Queens',260: 'Manhattan',\n",
    "        152: 'Queens',121: 'Queens',49: 'Brooklyn',198: 'Manhattan',83: 'Brooklyn',17: 'Manhattan',168: 'Queens',56: 'Brooklyn',\n",
    "        119: 'Queens',145: 'Queens',129: 'Queens',36: 'Manhattan', 1: 'Manhattan',95: 'Brooklyn',34: 'Manhattan',160: 'Queens',\n",
    "        196: 'Manhattan',10: 'Manhattan',102: 'Brooklyn',247: 'Manhattan',86: 'Brooklyn',28: 'Manhattan',54: 'Brooklyn',77: 'Brooklyn',\n",
    "        240: 'Manhattan',32: 'Manhattan',218: 'Manhattan',219: 'Manhattan',133: 'Queens',89: 'Brooklyn',156: 'Queens',177: 'Queens',\n",
    "        85: 'Brooklyn',173: 'Queens',69: 'Brooklyn',14: 'Manhattan',51: 'Brooklyn',202: 'Manhattan',165: 'Queens',254: 'Manhattan',\n",
    "        235: 'Manhattan',127: 'Queens',131: 'Queens',191: 'Queens',157: 'Queens',130: 'Queens',182: 'Queens',241: 'Manhattan',\n",
    "        11: 'Manhattan',62: 'Brooklyn',258: 'Manhattan',169: 'Queens',123: 'Queens',47: 'Manhattan',6: 'Manhattan',22: 'Manhattan',\n",
    "        135: 'Queens',216: 'Manhattan',155: 'Queens',63: 'Brooklyn',91: 'Brooklyn',94: 'Brooklyn',108: 'Queens',92: 'Brooklyn',\n",
    "        44: 'Manhattan',259: 'Manhattan',124: 'Queens',78: 'Brooklyn',171: 'Queens',149: 'Queens',55: 'Brooklyn',180: 'Brooklyn',\n",
    "        35: 'Manhattan',81: 'Brooklyn',257: 'Manhattan',139: 'Queens',72: 'Brooklyn',71: 'Brooklyn',19: 'Manhattan',73: 'Brooklyn',\n",
    "        200: 'Manhattan',222: 'Manhattan',208: 'Manhattan',76: 'Brooklyn',210: 'Manhattan',15: 'Manhattan',147: 'Queens',167: 'Queens',\n",
    "        126: 'Queens',213: 'Manhattan',5: 'Manhattan',96: 'Brooklyn',248: 'Manhattan',205: 'Manhattan',21: 'Manhattan',250: 'Manhattan',\n",
    "        153: 'Queens',18: 'Manhattan',134: 'Queens',242: 'Manhattan',192: 'Manhattan',98: 'Brooklyn',8: 'Manhattan',31: 'Manhattan',\n",
    "        26: 'Manhattan',67: 'Brooklyn',203: 'Manhattan',201: 'Manhattan',30: 'Manhattan',220: 'Manhattan',227: 'Manhattan',53: 'Brooklyn',\n",
    "        20: 'Manhattan',38: 'Manhattan',185: 'Queens',251: 'Manhattan',212: 'Manhattan',183: 'Queens',207: 'Manhattan',9: 'Manhattan',\n",
    "        175: 'Queens',16: 'Manhattan',23: 'Manhattan',3: 'Manhattan',117: 'Queens',64: 'Brooklyn',217: 'Manhattan',253: 'Manhattan',\n",
    "        190: 'Queens',111: 'Queens',115: 'Queens',29: 'Manhattan',101: 'Brooklyn',154: 'Queens',178: 'Queens',150: 'Queens',57: 'Brooklyn',\n",
    "        120: 'Queens',199: 'Manhattan',214: 'Manhattan',128: 'Queens',187: 'Queens',221: 'Manhattan',118: 'Queens',206: 'Manhattan',\n",
    "        109: 'Queens',184: 'Queens',172: 'Queens',99: 'Brooklyn',245: 'Manhattan',46: 'Manhattan',2: 'Manhattan',58: 'Brooklyn'\n",
    "        }\n",
    "\n",
    "\n",
    "    # Crear nuevas columnas mapeando 'PULocationID' y 'DOLocationID' a 'Boroughs'\n",
    "    df['PULBoroughs'] = df['PULocationID'].map(pulocationid_to_borough)\n",
    "    df['DOLBoroughs'] = df['DOLocationID'].map(pulocationid_to_borough)\n",
    "    print(df[['PULocationID', 'PULBoroughs', 'DOLocationID', 'DOLBoroughs']].head())\n",
    "\n",
    "    # Eliminar columnas con más del 50% de valores nulos\n",
    "    df.dropna(thresh=0.5*len(df), axis=1, inplace=True)\n",
    "\n",
    "    # Eliminar duplicados\n",
    "    df.drop_duplicates(subset=['tpep_pickup_datetime'], inplace=True)\n",
    "\n",
    "    # Eliminar columnas que no serán empleadas\n",
    "    df = df[['VendorID', 'tpep_pickup_datetime','tpep_dropoff_datetime','PULocationID','PULBoroughs', 'DOLocationID', 'DOLBoroughs', 'trip_distance', 'fare_amount', 'total_amount','tolls_amount', 'payment_type']]\n",
    "\n",
    "    # Guardar el dataframe limpio en un nuevo archivo CSV\n",
    "    df.to_csv(output_path, index=False)\n",
    "\n",
    "    return df"
   ]
  },
  {
   "cell_type": "markdown",
   "metadata": {},
   "source": [
    "Implementación"
   ]
  },
  {
   "cell_type": "code",
   "execution_count": null,
   "metadata": {},
   "outputs": [
    {
     "name": "stdout",
     "output_type": "stream",
     "text": [
      "   PULocationID PULBoroughs  DOLocationID DOLBoroughs\n",
      "0           138      Queens           141      Queens\n",
      "1           238   Manhattan            42   Manhattan\n",
      "2           239   Manhattan            74    Brooklyn\n",
      "3           148      Queens            87    Brooklyn\n",
      "4           231   Manhattan           246   Manhattan\n",
      "   VendorID tpep_pickup_datetime tpep_dropoff_datetime  PULocationID  \\\n",
      "0         1  2021-12-01 00:19:51   2021-12-01 00:37:01           138   \n",
      "1         2  2021-12-01 00:29:07   2021-12-01 00:45:13           238   \n",
      "2         1  2021-12-01 00:12:40   2021-12-01 00:27:17           239   \n",
      "3         1  2021-12-01 00:10:18   2021-12-01 00:19:20           148   \n",
      "4         1  2021-12-01 00:25:12   2021-12-01 00:39:07           231   \n",
      "\n",
      "  PULBoroughs  DOLocationID DOLBoroughs  trip_distance  fare_amount  \\\n",
      "0      Queens           141      Queens           9.30         26.5   \n",
      "1   Manhattan            42   Manhattan           2.76         13.0   \n",
      "2   Manhattan            74    Brooklyn           3.40         13.5   \n",
      "3      Queens            87    Brooklyn           1.30          6.5   \n",
      "4   Manhattan           246   Manhattan           3.10         12.5   \n",
      "\n",
      "   total_amount  tolls_amount  payment_type  \n",
      "0         45.70          6.55             1  \n",
      "1         16.80          0.00             2  \n",
      "2         19.30          0.00             1  \n",
      "3         12.35          0.00             1  \n",
      "4         18.80          0.00             1  \n"
     ]
    }
   ],
   "source": [
    "file_path = 'yellow_tripdata_2021-12.parquet'\n",
    "output_path = 'yellowtripdata202112.csv'\n",
    "df_processed_and_cleaned = process_and_clean_dataset_yellow(file_path, output_path)\n",
    "print(df_processed_and_cleaned.head())\n"
   ]
  },
  {
   "cell_type": "code",
   "execution_count": 147,
   "metadata": {},
   "outputs": [],
   "source": [
    "import pandas as pd\n",
    "\n",
    "def process_and_clean_dataset_gr(file_path, output_path):\n",
    "    # Cargar el archivo CSV\n",
    "    df = pd.read_parquet(file_path)\n",
    "\n",
    "    # Definir el diccionario de mapeo\n",
    "    pulocationid_to_borough = {\n",
    "        161: 'Queens',43: 'Bronx',48: 'Manhattan',138: 'Queens',107: 'Brooklyn',239: 'Manhattan',142: 'Queens',164: 'Brooklyn',\n",
    "        141: 'Queens',234: 'Manhattan',79: 'Brooklyn',33: 'Brooklyn',90: 'Brooklyn',113: 'Queens',237: 'Manhattan',143: 'Queens',\n",
    "        137: 'Queens',132: 'Queens',163: 'Brooklyn',68: 'Brooklyn',263: 'Manhattan',170: 'Brooklyn',233: 'Manhattan',236: 'Queens',\n",
    "        144: 'Queens',229: 'Manhattan',249: 'Manhattan',162: 'Queens',224: 'Manhattan',151: 'Queens',211: 'Manhattan',148: 'Queens',\n",
    "        238: 'Manhattan',231: 'Manhattan',13: 'Manhattan',262: 'Manhattan',75: 'Brooklyn',264: 'Manhattan',125: 'Queens',186: 'Queens',\n",
    "        158: 'Queens',246: 'Manhattan',50: 'Brooklyn',4: 'Manhattan',87: 'Brooklyn',114: 'Queens',24: 'Manhattan',166: 'Brooklyn',\n",
    "        41: 'Manhattan',25: 'Manhattan',194: 'Manhattan',74: 'Brooklyn',140: 'Queens',146: 'Queens',65: 'Brooklyn',181: 'Brooklyn',\n",
    "        255: 'Manhattan',256: 'Manhattan',88: 'Brooklyn',232: 'Manhattan',193: 'Manhattan',226: 'Manhattan',97: 'Brooklyn',\n",
    "        197: 'Manhattan',37: 'Manhattan',189: 'Queens',261: 'Manhattan',225: 'Manhattan',244: 'Manhattan',45: 'Manhattan',40: 'Manhattan',\n",
    "        116: 'Queens',80: 'Brooklyn',209: 'Manhattan',243: 'Manhattan',60: 'Brooklyn',265: 'Manhattan',100: 'Brooklyn',70: 'Brooklyn',\n",
    "        188: 'Queens',52: 'Brooklyn',7: 'Manhattan',159: 'Queens',66: 'Brooklyn',42: 'Manhattan',174: 'Queens',215: 'Manhattan',\n",
    "        252: 'Manhattan',136: 'Queens',223: 'Manhattan',93: 'Brooklyn',12: 'Manhattan',39: 'Manhattan',122: 'Queens',195: 'Manhattan',\n",
    "        61: 'Brooklyn',112: 'Queens',230: 'Manhattan',82: 'Brooklyn',106: 'Brooklyn',228: 'Manhattan',179: 'Queens',260: 'Manhattan',\n",
    "        152: 'Queens',121: 'Queens',49: 'Brooklyn',198: 'Manhattan',83: 'Brooklyn',17: 'Manhattan',168: 'Queens',56: 'Brooklyn',\n",
    "        119: 'Queens',145: 'Queens',129: 'Queens',36: 'Manhattan', 1: 'Manhattan',95: 'Brooklyn',34: 'Manhattan',160: 'Queens',\n",
    "        196: 'Manhattan',10: 'Manhattan',102: 'Brooklyn',247: 'Manhattan',86: 'Brooklyn',28: 'Manhattan',54: 'Brooklyn',77: 'Brooklyn',\n",
    "        240: 'Manhattan',32: 'Manhattan',218: 'Manhattan',219: 'Manhattan',133: 'Queens',89: 'Brooklyn',156: 'Queens',177: 'Queens',\n",
    "        85: 'Brooklyn',173: 'Queens',69: 'Brooklyn',14: 'Manhattan',51: 'Brooklyn',202: 'Manhattan',165: 'Queens',254: 'Manhattan',\n",
    "        235: 'Manhattan',127: 'Queens',131: 'Queens',191: 'Queens',157: 'Queens',130: 'Queens',182: 'Queens',241: 'Manhattan',\n",
    "        11: 'Manhattan',62: 'Brooklyn',258: 'Manhattan',169: 'Queens',123: 'Queens',47: 'Manhattan',6: 'Manhattan',22: 'Manhattan',\n",
    "        135: 'Queens',216: 'Manhattan',155: 'Queens',63: 'Brooklyn',91: 'Brooklyn',94: 'Brooklyn',108: 'Queens',92: 'Brooklyn',\n",
    "        44: 'Manhattan',259: 'Manhattan',124: 'Queens',78: 'Brooklyn',171: 'Queens',149: 'Queens',55: 'Brooklyn',180: 'Brooklyn',\n",
    "        35: 'Manhattan',81: 'Brooklyn',257: 'Manhattan',139: 'Queens',72: 'Brooklyn',71: 'Brooklyn',19: 'Manhattan',73: 'Brooklyn',\n",
    "        200: 'Manhattan',222: 'Manhattan',208: 'Manhattan',76: 'Brooklyn',210: 'Manhattan',15: 'Manhattan',147: 'Queens',167: 'Queens',\n",
    "        126: 'Queens',213: 'Manhattan',5: 'Manhattan',96: 'Brooklyn',248: 'Manhattan',205: 'Manhattan',21: 'Manhattan',250: 'Manhattan',\n",
    "        153: 'Queens',18: 'Manhattan',134: 'Queens',242: 'Manhattan',192: 'Manhattan',98: 'Brooklyn',8: 'Manhattan',31: 'Manhattan',\n",
    "        26: 'Manhattan',67: 'Brooklyn',203: 'Manhattan',201: 'Manhattan',30: 'Manhattan',220: 'Manhattan',227: 'Manhattan',53: 'Brooklyn',\n",
    "        20: 'Manhattan',38: 'Manhattan',185: 'Queens',251: 'Manhattan',212: 'Manhattan',183: 'Queens',207: 'Manhattan',9: 'Manhattan',\n",
    "        175: 'Queens',16: 'Manhattan',23: 'Manhattan',3: 'Manhattan',117: 'Queens',64: 'Brooklyn',217: 'Manhattan',253: 'Manhattan',\n",
    "        190: 'Queens',111: 'Queens',115: 'Queens',29: 'Manhattan',101: 'Brooklyn',154: 'Queens',178: 'Queens',150: 'Queens',57: 'Brooklyn',\n",
    "        120: 'Queens',199: 'Manhattan',214: 'Manhattan',128: 'Queens',187: 'Queens',221: 'Manhattan',118: 'Queens',206: 'Manhattan',\n",
    "        109: 'Queens',184: 'Queens',172: 'Queens',99: 'Brooklyn',245: 'Manhattan',46: 'Manhattan',2: 'Manhattan',58: 'Brooklyn'\n",
    "        }\n",
    "\n",
    "\n",
    "    # Crear nuevas columnas mapeando 'PULocationID' y 'DOLocationID' a 'Boroughs'\n",
    "    df['PULBoroughs'] = df['PULocationID'].map(pulocationid_to_borough)\n",
    "    df['DOLBoroughs'] = df['DOLocationID'].map(pulocationid_to_borough)\n",
    "    print(df[['PULocationID', 'PULBoroughs', 'DOLocationID', 'DOLBoroughs']].head())\n",
    "\n",
    "    # Eliminar columnas con más del 50% de valores nulos\n",
    "    df.dropna(thresh=0.5*len(df), axis=1, inplace=True)\n",
    "\n",
    "    # Eliminar duplicados\n",
    "    df.drop_duplicates(subset=['lpep_pickup_datetime'], inplace=True)\n",
    "\n",
    "    # Eliminar columnas que no serán empleadas\n",
    "    df = df[['VendorID', 'lpep_pickup_datetime','lpep_dropoff_datetime','PULocationID','PULBoroughs', 'DOLocationID', 'DOLBoroughs', 'trip_distance', 'fare_amount', 'total_amount','tolls_amount', 'payment_type']]\n",
    "\n",
    "    # Guardar el dataframe limpio en un nuevo archivo CSV\n",
    "    df.to_csv(output_path, index=False)\n",
    "\n",
    "    return df"
   ]
  },
  {
   "cell_type": "markdown",
   "metadata": {},
   "source": [
    "Implementación"
   ]
  },
  {
   "cell_type": "code",
   "execution_count": 192,
   "metadata": {},
   "outputs": [
    {
     "name": "stdout",
     "output_type": "stream",
     "text": [
      "   PULocationID PULBoroughs  DOLocationID DOLBoroughs\n",
      "0           130      Queens           205   Manhattan\n",
      "1           152      Queens           244   Manhattan\n",
      "2           152      Queens            48   Manhattan\n",
      "3           152      Queens           241   Manhattan\n",
      "4            75    Brooklyn            42   Manhattan\n",
      "   VendorID lpep_pickup_datetime lpep_dropoff_datetime  PULocationID  \\\n",
      "0         2  2021-02-01 00:34:03   2021-02-01 00:51:58           130   \n",
      "1         2  2021-02-01 00:04:00   2021-02-01 00:10:30           152   \n",
      "2         2  2021-02-01 00:18:51   2021-02-01 00:34:06           152   \n",
      "3         2  2021-02-01 00:53:27   2021-02-01 01:11:41           152   \n",
      "4         2  2021-02-01 00:57:46   2021-02-01 01:06:44            75   \n",
      "\n",
      "  PULBoroughs  DOLocationID DOLBoroughs  trip_distance  fare_amount  \\\n",
      "0      Queens           205   Manhattan           3.66         14.0   \n",
      "1      Queens           244   Manhattan           1.10          6.5   \n",
      "2      Queens            48   Manhattan           4.93         16.5   \n",
      "3      Queens           241   Manhattan           6.70         21.0   \n",
      "4    Brooklyn            42   Manhattan           1.89          8.5   \n",
      "\n",
      "   total_amount  tolls_amount  payment_type  \n",
      "0         25.30           0.0           1.0  \n",
      "1          7.80           0.0           2.0  \n",
      "2         20.55           0.0           2.0  \n",
      "3         22.30           0.0           2.0  \n",
      "4         12.25           0.0           1.0  \n"
     ]
    }
   ],
   "source": [
    "file_path = 'green_tripdata_2021-02.parquet'\n",
    "output_path = 'greentrip202102.csv'\n",
    "df_processed_and_cleaned = process_and_clean_dataset_gr(file_path, output_path)\n",
    "print(df_processed_and_cleaned.head())"
   ]
  },
  {
   "cell_type": "code",
   "execution_count": 180,
   "metadata": {},
   "outputs": [],
   "source": [
    "import pandas as pd\n",
    "\n",
    "def process_and_clean_dataset_green(file_path, output_path):\n",
    "    # Cargar el archivo\n",
    "    df = pd.read_parquet(file_path)\n",
    "\n",
    "    # Definir el diccionario de mapeo\n",
    "    pulocationid_to_borough = {\n",
    "        161: 'Queens',43: 'Bronx',48: 'Manhattan',138: 'Queens',107: 'Brooklyn',239: 'Manhattan',142: 'Queens',164: 'Brooklyn',\n",
    "        141: 'Queens',234: 'Manhattan',79: 'Brooklyn',33: 'Brooklyn',90: 'Brooklyn',113: 'Queens',237: 'Manhattan',143: 'Queens',\n",
    "        137: 'Queens',132: 'Queens',163: 'Brooklyn',68: 'Brooklyn',263: 'Manhattan',170: 'Brooklyn',233: 'Manhattan',236: 'Queens',\n",
    "        144: 'Queens',229: 'Manhattan',249: 'Manhattan',162: 'Queens',224: 'Manhattan',151: 'Queens',211: 'Manhattan',148: 'Queens',\n",
    "        238: 'Manhattan',231: 'Manhattan',13: 'Manhattan',262: 'Manhattan',75: 'Brooklyn',264: 'Manhattan',125: 'Queens',186: 'Queens',\n",
    "        158: 'Queens',246: 'Manhattan',50: 'Brooklyn',4: 'Manhattan',87: 'Brooklyn',114: 'Queens',24: 'Manhattan',166: 'Brooklyn',\n",
    "        41: 'Manhattan',25: 'Manhattan',194: 'Manhattan',74: 'Brooklyn',140: 'Queens',146: 'Queens',65: 'Brooklyn',181: 'Brooklyn',\n",
    "        255: 'Manhattan',256: 'Manhattan',88: 'Brooklyn',232: 'Manhattan',193: 'Manhattan',226: 'Manhattan',97: 'Brooklyn',\n",
    "        197: 'Manhattan',37: 'Manhattan',189: 'Queens',261: 'Manhattan',225: 'Manhattan',244: 'Manhattan',45: 'Manhattan',40: 'Manhattan',\n",
    "        116: 'Queens',80: 'Brooklyn',209: 'Manhattan',243: 'Manhattan',60: 'Brooklyn',265: 'Manhattan',100: 'Brooklyn',70: 'Brooklyn',\n",
    "        188: 'Queens',52: 'Brooklyn',7: 'Manhattan',159: 'Queens',66: 'Brooklyn',42: 'Manhattan',174: 'Queens',215: 'Manhattan',\n",
    "        252: 'Manhattan',136: 'Queens',223: 'Manhattan',93: 'Brooklyn',12: 'Manhattan',39: 'Manhattan',122: 'Queens',195: 'Manhattan',\n",
    "        61: 'Brooklyn',112: 'Queens',230: 'Manhattan',82: 'Brooklyn',106: 'Brooklyn',228: 'Manhattan',179: 'Queens',260: 'Manhattan',\n",
    "        152: 'Queens',121: 'Queens',49: 'Brooklyn',198: 'Manhattan',83: 'Brooklyn',17: 'Manhattan',168: 'Queens',56: 'Brooklyn',\n",
    "        119: 'Queens',145: 'Queens',129: 'Queens',36: 'Manhattan', 1: 'Manhattan',95: 'Brooklyn',34: 'Manhattan',160: 'Queens',\n",
    "        196: 'Manhattan',10: 'Manhattan',102: 'Brooklyn',247: 'Manhattan',86: 'Brooklyn',28: 'Manhattan',54: 'Brooklyn',77: 'Brooklyn',\n",
    "        240: 'Manhattan',32: 'Manhattan',218: 'Manhattan',219: 'Manhattan',133: 'Queens',89: 'Brooklyn',156: 'Queens',177: 'Queens',\n",
    "        85: 'Brooklyn',173: 'Queens',69: 'Brooklyn',14: 'Manhattan',51: 'Brooklyn',202: 'Manhattan',165: 'Queens',254: 'Manhattan',\n",
    "        235: 'Manhattan',127: 'Queens',131: 'Queens',191: 'Queens',157: 'Queens',130: 'Queens',182: 'Queens',241: 'Manhattan',\n",
    "        11: 'Manhattan',62: 'Brooklyn',258: 'Manhattan',169: 'Queens',123: 'Queens',47: 'Manhattan',6: 'Manhattan',22: 'Manhattan',\n",
    "        135: 'Queens',216: 'Manhattan',155: 'Queens',63: 'Brooklyn',91: 'Brooklyn',94: 'Brooklyn',108: 'Queens',92: 'Brooklyn',\n",
    "        44: 'Manhattan',259: 'Manhattan',124: 'Queens',78: 'Brooklyn',171: 'Queens',149: 'Queens',55: 'Brooklyn',180: 'Brooklyn',\n",
    "        35: 'Manhattan',81: 'Brooklyn',257: 'Manhattan',139: 'Queens',72: 'Brooklyn',71: 'Brooklyn',19: 'Manhattan',73: 'Brooklyn',\n",
    "        200: 'Manhattan',222: 'Manhattan',208: 'Manhattan',76: 'Brooklyn',210: 'Manhattan',15: 'Manhattan',147: 'Queens',167: 'Queens',\n",
    "        126: 'Queens',213: 'Manhattan',5: 'Manhattan',96: 'Brooklyn',248: 'Manhattan',205: 'Manhattan',21: 'Manhattan',250: 'Manhattan',\n",
    "        153: 'Queens',18: 'Manhattan',134: 'Queens',242: 'Manhattan',192: 'Manhattan',98: 'Brooklyn',8: 'Manhattan',31: 'Manhattan',\n",
    "        26: 'Manhattan',67: 'Brooklyn',203: 'Manhattan',201: 'Manhattan',30: 'Manhattan',220: 'Manhattan',227: 'Manhattan',53: 'Brooklyn',\n",
    "        20: 'Manhattan',38: 'Manhattan',185: 'Queens',251: 'Manhattan',212: 'Manhattan',183: 'Queens',207: 'Manhattan',9: 'Manhattan',\n",
    "        175: 'Queens',16: 'Manhattan',23: 'Manhattan',3: 'Manhattan',117: 'Queens',64: 'Brooklyn',217: 'Manhattan',253: 'Manhattan',\n",
    "        190: 'Queens',111: 'Queens',115: 'Queens',29: 'Manhattan',101: 'Brooklyn',154: 'Queens',178: 'Queens',150: 'Queens',57: 'Brooklyn',\n",
    "        120: 'Queens',199: 'Manhattan',214: 'Manhattan',128: 'Queens',187: 'Queens',221: 'Manhattan',118: 'Queens',206: 'Manhattan',\n",
    "        109: 'Queens',184: 'Queens',172: 'Queens',99: 'Brooklyn',245: 'Manhattan',46: 'Manhattan',2: 'Manhattan',58: 'Brooklyn'\n",
    "    }\n",
    "\n",
    "    # Crear nuevas columnas mapeando 'PULocationID' y 'DOLocationID' a 'Boroughs'\n",
    "    df['PULBoroughs'] = df['PULocationID'].map(pulocationid_to_borough)\n",
    "    df['DOLBoroughs'] = df['DOLocationID'].map(pulocationid_to_borough)\n",
    "    print(df[['PULocationID', 'PULBoroughs', 'DOLocationID', 'DOLBoroughs']].head())\n",
    "\n",
    "    # Eliminar columnas con más del 50% de valores nulos\n",
    "    df.dropna(thresh=0.5*len(df), axis=1, inplace=True)\n",
    "\n",
    "    # Eliminar duplicados\n",
    "    df.drop_duplicates(subset=['lpep_pickup_datetime'], inplace=True)\n",
    "\n",
    "    # Eliminar columnas que no serán empleadas\n",
    "    df = df[['VendorID', 'lpep_pickup_datetime', 'lpep_dropoff_datetime','PULocationID', 'PULBoroughs', 'DOLocationID', 'DOLBoroughs', 'trip_distance', 'fare_amount','total_amount','tolls_amount']]\n",
    "\n",
    "    # Guardar el dataframe limpio en un nuevo archivo CSV\n",
    "    df.to_csv(output_path, index=False)\n",
    "\n",
    "    return df"
   ]
  },
  {
   "cell_type": "markdown",
   "metadata": {},
   "source": [
    "Implementación:"
   ]
  },
  {
   "cell_type": "code",
   "execution_count": null,
   "metadata": {},
   "outputs": [
    {
     "name": "stdout",
     "output_type": "stream",
     "text": [
      "   PULocationID PULBoroughs  DOLocationID DOLBoroughs\n",
      "0            82    Brooklyn            82    Brooklyn\n",
      "1           236      Queens           151      Queens\n",
      "2           166    Brooklyn            75    Brooklyn\n",
      "3            74    Brooklyn            75    Brooklyn\n",
      "4            82    Brooklyn           129      Queens\n",
      "   VendorID lpep_pickup_datetime lpep_dropoff_datetime  PULocationID  \\\n",
      "0         2  2021-12-01 00:35:15   2021-12-01 00:42:24            82   \n",
      "1         2  2021-12-01 00:15:54   2021-12-01 00:20:31           236   \n",
      "2         2  2021-12-01 00:33:46   2021-12-01 00:43:29           166   \n",
      "3         1  2021-12-01 00:29:51   2021-12-01 00:35:50            74   \n",
      "4         2  2021-12-01 00:13:06   2021-12-01 00:17:11            82   \n",
      "\n",
      "  PULBoroughs  DOLocationID DOLBoroughs  trip_distance  fare_amount  \\\n",
      "0    Brooklyn            82    Brooklyn           0.65          6.0   \n",
      "1      Queens           151      Queens           1.62          6.5   \n",
      "2    Brooklyn            75    Brooklyn           1.95          9.5   \n",
      "3    Brooklyn            75    Brooklyn           1.20          6.5   \n",
      "4    Brooklyn           129      Queens           0.92          5.0   \n",
      "\n",
      "   total_amount  tolls_amount  \n",
      "0           7.3           0.0  \n",
      "1           9.3           0.0  \n",
      "2          13.5           0.0  \n",
      "3           7.8           0.0  \n",
      "4           6.3           0.0  \n"
     ]
    }
   ],
   "source": [
    "file_path = 'green_tripdata_2021-12.parquet'\n",
    "output_path = 'greentripdata202112.csv'\n",
    "df_processed_and_cleaned = process_and_clean_dataset_green(file_path, output_path)\n",
    "print(df_processed_and_cleaned.head())"
   ]
  },
  {
   "cell_type": "markdown",
   "metadata": {},
   "source": [
    "# FUNCIÓN PARA MUESTREO DEL DATASET"
   ]
  },
  {
   "cell_type": "code",
   "execution_count": 193,
   "metadata": {},
   "outputs": [],
   "source": [
    "import pandas as pd\n",
    "\n",
    "def calcular_tamano_muestra(N, Z=1.96, p=0.5, d=0.05):\n",
    "    \"\"\"Calcula el tamaño de la muestra.\"\"\"\n",
    "    return int((N * (Z**2) * p * (1 - p)) / ((d**2) * (N - 1) + (Z**2) * p * (1 - p)))\n",
    "\n",
    "def procesar_muestra(archivo_entrada, archivo_salida):\n",
    "    \"\"\"Procesa una muestra del DataFrame y la guarda en un archivo CSV.\"\"\"\n",
    "    # Cargar el archivo CSV\n",
    "    df = pd.read_csv(archivo_entrada)\n",
    "    \n",
    "    # Calcular el tamaño de la muestra\n",
    "    N = len(df)\n",
    "    tamano_muestra = calcular_tamano_muestra(N)\n",
    "    print(f\"Tamaño de la muestra: {tamano_muestra}\")\n",
    "    \n",
    "    # Tomar una muestra aleatoria del DataFrame\n",
    "    df_muestra = df.sample(n=tamano_muestra, random_state=1)\n",
    "    \n",
    "    # Guardar la muestra en un archivo CSV\n",
    "    df_muestra.to_csv(archivo_salida, index=False)\n",
    "    print(f\"Muestra guardada en {archivo_salida}\")"
   ]
  },
  {
   "cell_type": "markdown",
   "metadata": {},
   "source": [
    "Implementación"
   ]
  },
  {
   "cell_type": "code",
   "execution_count": 238,
   "metadata": {},
   "outputs": [
    {
     "name": "stdout",
     "output_type": "stream",
     "text": [
      "Tamaño de la muestra: 381\n",
      "Muestra guardada en greentripdata202408muestra.csv\n"
     ]
    }
   ],
   "source": [
    "archivo_entrada = 'greentrip202408.csv'\n",
    "archivo_salida = 'greentripdata202408muestra.csv'\n",
    "procesar_muestra(archivo_entrada, archivo_salida)"
   ]
  },
  {
   "cell_type": "markdown",
   "metadata": {},
   "source": [
    "# FUNCIÓN PARA UNIR DATASETS"
   ]
  },
  {
   "cell_type": "code",
   "execution_count": 3,
   "metadata": {},
   "outputs": [],
   "source": [
    "import pandas as pd\n",
    "\n",
    "def unir_datasets(archivos, archivo_salida):\n",
    "    \"\"\"\n",
    "    Une múltiples datasets que tienen las mismas columnas y guarda el resultado en un archivo CSV.\n",
    "\n",
    "    Args:\n",
    "        archivos (list): Lista de rutas a los archivos CSV a unir.\n",
    "        archivo_salida (str): Ruta del archivo CSV de salida.\n",
    "    \"\"\"\n",
    "    dataframes = [pd.read_csv(archivo) for archivo in archivos]\n",
    "    df_unido = pd.concat(dataframes, ignore_index=True)\n",
    "    df_unido.to_csv(archivo_salida, index=False)\n",
    "    print(f\"Datasets unidos y guardados en {archivo_salida}\")"
   ]
  },
  {
   "cell_type": "markdown",
   "metadata": {},
   "source": [
    "Implementación"
   ]
  },
  {
   "cell_type": "code",
   "execution_count": 4,
   "metadata": {},
   "outputs": [
    {
     "name": "stdout",
     "output_type": "stream",
     "text": [
      "Datasets unidos y guardados en taxismuestrasunido.csv\n"
     ]
    }
   ],
   "source": [
    "archivos = ['greentripmuestranormalizada.csv','yellowtripmuestranormalizada.csv']\n",
    "archivo_salida = 'taxismuestrasunido.csv'\n",
    "unir_datasets(archivos, archivo_salida)\n"
   ]
  },
  {
   "cell_type": "code",
   "execution_count": 5,
   "metadata": {},
   "outputs": [],
   "source": [
    "m=pd.read_csv('taxismuestrasunido.csv')"
   ]
  },
  {
   "cell_type": "code",
   "execution_count": 7,
   "metadata": {},
   "outputs": [
    {
     "data": {
      "text/plain": [
       "(33673, 14)"
      ]
     },
     "execution_count": 7,
     "metadata": {},
     "output_type": "execute_result"
    }
   ],
   "source": [
    "m.shape"
   ]
  },
  {
   "cell_type": "markdown",
   "metadata": {},
   "source": [
    "# FUNCIÓN PARA CAMBIAR NOMBRES DE COLUMNAS"
   ]
  },
  {
   "cell_type": "code",
   "execution_count": 139,
   "metadata": {},
   "outputs": [],
   "source": [
    "import pandas as pd\n",
    "\n",
    "def cambiar_nombres_columnas(df, nuevos_nombres):\n",
    "    \"\"\"\n",
    "    Cambia los nombres de las columnas de un DataFrame según un diccionario dado.\n",
    "\n",
    "    Args:\n",
    "        df (pd.DataFrame): DataFrame cuyos nombres de columnas se van a cambiar.\n",
    "        nuevos_nombres (dict): Diccionario con los nombres actuales como claves y los nuevos nombres como valores.\n",
    "\n",
    "    Returns:\n",
    "        pd.DataFrame: DataFrame con los nombres de columnas cambiados.\n",
    "    \"\"\"\n",
    "    df = df.rename(columns=nuevos_nombres)\n",
    "    return df\n",
    "\n"
   ]
  },
  {
   "cell_type": "code",
   "execution_count": 247,
   "metadata": {},
   "outputs": [
    {
     "data": {
      "text/html": [
       "<div>\n",
       "<style scoped>\n",
       "    .dataframe tbody tr th:only-of-type {\n",
       "        vertical-align: middle;\n",
       "    }\n",
       "\n",
       "    .dataframe tbody tr th {\n",
       "        vertical-align: top;\n",
       "    }\n",
       "\n",
       "    .dataframe thead th {\n",
       "        text-align: right;\n",
       "    }\n",
       "</style>\n",
       "<table border=\"1\" class=\"dataframe\">\n",
       "  <thead>\n",
       "    <tr style=\"text-align: right;\">\n",
       "      <th></th>\n",
       "      <th>VendorID</th>\n",
       "      <th>lpep_pickup_datetime</th>\n",
       "      <th>lpep_dropoff_datetime</th>\n",
       "      <th>PULocationID</th>\n",
       "      <th>PULBoroughs</th>\n",
       "      <th>DOLocationID</th>\n",
       "      <th>DOLBoroughs</th>\n",
       "      <th>trip_distance</th>\n",
       "      <th>fare_amount</th>\n",
       "      <th>total_amount</th>\n",
       "      <th>tolls_amount</th>\n",
       "      <th>payment_type</th>\n",
       "    </tr>\n",
       "  </thead>\n",
       "  <tbody>\n",
       "    <tr>\n",
       "      <th>0</th>\n",
       "      <td>2</td>\n",
       "      <td>2021-01-02 17:02:00</td>\n",
       "      <td>2021-01-02 17:11:00</td>\n",
       "      <td>97</td>\n",
       "      <td>Brooklyn</td>\n",
       "      <td>17</td>\n",
       "      <td>Manhattan</td>\n",
       "      <td>1.83</td>\n",
       "      <td>23.07</td>\n",
       "      <td>26.12</td>\n",
       "      <td>0.0</td>\n",
       "      <td>NaN</td>\n",
       "    </tr>\n",
       "    <tr>\n",
       "      <th>1</th>\n",
       "      <td>2</td>\n",
       "      <td>2021-01-09 10:20:26</td>\n",
       "      <td>2021-01-09 10:27:45</td>\n",
       "      <td>41</td>\n",
       "      <td>Manhattan</td>\n",
       "      <td>42</td>\n",
       "      <td>Manhattan</td>\n",
       "      <td>1.54</td>\n",
       "      <td>7.50</td>\n",
       "      <td>8.30</td>\n",
       "      <td>0.0</td>\n",
       "      <td>2.0</td>\n",
       "    </tr>\n",
       "    <tr>\n",
       "      <th>2</th>\n",
       "      <td>2</td>\n",
       "      <td>2021-01-29 18:28:00</td>\n",
       "      <td>2021-01-29 18:54:00</td>\n",
       "      <td>177</td>\n",
       "      <td>Queens</td>\n",
       "      <td>39</td>\n",
       "      <td>Manhattan</td>\n",
       "      <td>4.14</td>\n",
       "      <td>23.31</td>\n",
       "      <td>26.36</td>\n",
       "      <td>0.0</td>\n",
       "      <td>NaN</td>\n",
       "    </tr>\n",
       "    <tr>\n",
       "      <th>3</th>\n",
       "      <td>2</td>\n",
       "      <td>2021-01-06 16:21:47</td>\n",
       "      <td>2021-01-06 16:30:43</td>\n",
       "      <td>41</td>\n",
       "      <td>Manhattan</td>\n",
       "      <td>166</td>\n",
       "      <td>Brooklyn</td>\n",
       "      <td>1.67</td>\n",
       "      <td>8.50</td>\n",
       "      <td>11.30</td>\n",
       "      <td>0.0</td>\n",
       "      <td>1.0</td>\n",
       "    </tr>\n",
       "    <tr>\n",
       "      <th>4</th>\n",
       "      <td>1</td>\n",
       "      <td>2021-01-26 16:40:12</td>\n",
       "      <td>2021-01-26 16:54:51</td>\n",
       "      <td>41</td>\n",
       "      <td>Manhattan</td>\n",
       "      <td>168</td>\n",
       "      <td>Queens</td>\n",
       "      <td>2.90</td>\n",
       "      <td>12.00</td>\n",
       "      <td>17.90</td>\n",
       "      <td>0.0</td>\n",
       "      <td>1.0</td>\n",
       "    </tr>\n",
       "  </tbody>\n",
       "</table>\n",
       "</div>"
      ],
      "text/plain": [
       "   VendorID lpep_pickup_datetime lpep_dropoff_datetime  PULocationID  \\\n",
       "0         2  2021-01-02 17:02:00   2021-01-02 17:11:00            97   \n",
       "1         2  2021-01-09 10:20:26   2021-01-09 10:27:45            41   \n",
       "2         2  2021-01-29 18:28:00   2021-01-29 18:54:00           177   \n",
       "3         2  2021-01-06 16:21:47   2021-01-06 16:30:43            41   \n",
       "4         1  2021-01-26 16:40:12   2021-01-26 16:54:51            41   \n",
       "\n",
       "  PULBoroughs  DOLocationID DOLBoroughs  trip_distance  fare_amount  \\\n",
       "0    Brooklyn            17   Manhattan           1.83        23.07   \n",
       "1   Manhattan            42   Manhattan           1.54         7.50   \n",
       "2      Queens            39   Manhattan           4.14        23.31   \n",
       "3   Manhattan           166    Brooklyn           1.67         8.50   \n",
       "4   Manhattan           168      Queens           2.90        12.00   \n",
       "\n",
       "   total_amount  tolls_amount  payment_type  \n",
       "0         26.12           0.0           NaN  \n",
       "1          8.30           0.0           2.0  \n",
       "2         26.36           0.0           NaN  \n",
       "3         11.30           0.0           1.0  \n",
       "4         17.90           0.0           1.0  "
      ]
     },
     "execution_count": 247,
     "metadata": {},
     "output_type": "execute_result"
    }
   ],
   "source": [
    "archivo.head()"
   ]
  },
  {
   "cell_type": "markdown",
   "metadata": {},
   "source": [
    "Implementación"
   ]
  },
  {
   "cell_type": "code",
   "execution_count": 250,
   "metadata": {},
   "outputs": [
    {
     "name": "stdout",
     "output_type": "stream",
     "text": [
      "   Proveedor TPEP        Hora recogida         Hora destino  PULocationID  \\\n",
      "0               2  2021-01-02 17:02:00  2021-01-02 17:11:00            97   \n",
      "1               2  2021-01-09 10:20:26  2021-01-09 10:27:45            41   \n",
      "2               2  2021-01-29 18:28:00  2021-01-29 18:54:00           177   \n",
      "3               2  2021-01-06 16:21:47  2021-01-06 16:30:43            41   \n",
      "4               1  2021-01-26 16:40:12  2021-01-26 16:54:51            41   \n",
      "\n",
      "  Distrito recogida  ID lugar llegada Distrito llegada  Distancia viaje  \\\n",
      "0          Brooklyn                17        Manhattan             1.83   \n",
      "1         Manhattan                42        Manhattan             1.54   \n",
      "2            Queens                39        Manhattan             4.14   \n",
      "3         Manhattan               166         Brooklyn             1.67   \n",
      "4         Manhattan               168           Queens             2.90   \n",
      "\n",
      "   Costo tarifa  Total  Peajes  Tipo pago  \n",
      "0         23.07  26.12     0.0        NaN  \n",
      "1          7.50   8.30     0.0        2.0  \n",
      "2         23.31  26.36     0.0        NaN  \n",
      "3          8.50  11.30     0.0        1.0  \n",
      "4         12.00  17.90     0.0        1.0  \n"
     ]
    }
   ],
   "source": [
    "archivo = 'greentripmuestrasunido.csv'\n",
    "df = pd.read_csv(archivo)\n",
    "\n",
    "nuevos_nombres = {\n",
    "    'VendorID': 'Proveedor TPEP',\n",
    "    'lpep_pickup_datetime': 'Hora recogida',\n",
    "    'lpep_dropoff_datetime':'Hora destino',\n",
    "    'PULocationID ':'ID lugar recogida',\n",
    "    'PULBoroughs':'Distrito recogida',\n",
    "    'DOLocationID':'ID lugar llegada',\n",
    "    'DOLBoroughs':'Distrito llegada',\n",
    "    'trip_distance':'Distancia viaje',\n",
    "    'fare_amount':'Costo tarifa',\n",
    "    'total_amount':'Total',\n",
    "    'tolls_amount':'Peajes',\n",
    "    'payment_type':'Tipo pago',\n",
    "}\n",
    "\n",
    "df_renombrado = cambiar_nombres_columnas(df, nuevos_nombres)\n",
    "print(df_renombrado.head())\n",
    "df_renombrado.to_csv('greentripmuestranormalizada.csv')"
   ]
  },
  {
   "cell_type": "markdown",
   "metadata": {},
   "source": [
    "# FUNCIÓN PARA AUTOMATIZAR EL EDA"
   ]
  },
  {
   "cell_type": "markdown",
   "metadata": {},
   "source": [
    "DEMASIADO PESADA, NO FUNCIONA"
   ]
  },
  {
   "cell_type": "code",
   "execution_count": 252,
   "metadata": {},
   "outputs": [],
   "source": [
    "import pandas as pd\n",
    "import seaborn as sns\n",
    "import matplotlib.pyplot as plt\n",
    "from io import StringIO\n",
    "\n",
    "def eda_automatica_html(ruta_archivo, ruta_salida_html):\n",
    "    # Cargar el archivo\n",
    "    df = pd.read_csv(ruta_archivo)\n",
    "\n",
    "    # Crear un objeto StringIO para almacenar el HTML\n",
    "    html_str = StringIO()\n",
    "\n",
    "    # Resumen estadístico\n",
    "    resumen = df.describe().to_html()\n",
    "\n",
    "    # Crear el archivo HTML\n",
    "    html_str.write('<html><head><title>EDA Automático</title></head><body>')\n",
    "    html_str.write('<h1>Resumen Estadístico</h1>')\n",
    "    html_str.write(resumen)\n",
    "\n",
    "    # Histograma de cada columna numérica\n",
    "    for columna in df.select_dtypes(include=['number']).columns:\n",
    "        plt.figure(figsize=(10, 5))\n",
    "        sns.histplot(df[columna], kde=True)\n",
    "        plt.title(f'Histograma de {columna}')\n",
    "        img_path = f'{columna}_histogram.png'\n",
    "        plt.savefig(img_path)\n",
    "        plt.close()\n",
    "        html_str.write(f'<h2>Histograma de {columna}</h2>')\n",
    "        html_str.write(f'<img src=\"{img_path}\" alt=\"Histograma de {columna}\">')\n",
    "\n",
    "    # Gráficos de dispersión entre pares de variables\n",
    "    sns.pairplot(df.select_dtypes(include=['number']), palette='crest', hue='DOLBoroughs')\n",
    "    pairplot_path = 'pairplot.png'\n",
    "    plt.savefig(pairplot_path)\n",
    "    plt.close()\n",
    "    html_str.write('<h2>Gráfico de dispersión entre pares de variables</h2>')\n",
    "    html_str.write(f'<img src=\"{pairplot_path}\" alt=\"Gráfico de dispersión entre pares de variables\">')\n",
    "\n",
    "    # Matriz de correlación\n",
    "    matriz_corr = df.corr()\n",
    "    plt.figure(figsize=(12, 10))\n",
    "    sns.heatmap(matriz_corr, annot=True, cmap='crest')\n",
    "    correlacion_path = 'matriz_correlacion.png'\n",
    "    plt.title('Matriz de correlación')\n",
    "    plt.savefig(correlacion_path)\n",
    "    plt.close()\n",
    "    html_str.write('<h2>Matriz de correlación</h2>')\n",
    "    html_str.write(f'<img src=\"{correlacion_path}\" alt=\"Matriz de correlación\">')\n",
    "\n",
    "    # Cerrar el archivo HTML\n",
    "    html_str.write('</body></html>')\n",
    "\n",
    "    # Guardar el HTML en un archivo\n",
    "    with open(ruta_salida_html, 'w') as f:\n",
    "        f.write(html_str.getvalue())\n",
    "\n",
    "    print(\"EDA automática completada. Los resultados están guardados en el archivo HTML especificado.\")\n"
   ]
  },
  {
   "cell_type": "markdown",
   "metadata": {},
   "source": [
    "Implementación"
   ]
  },
  {
   "cell_type": "markdown",
   "metadata": {},
   "source": [
    "# FUNCIÓN PARA CREAR COLUMNAS DE AÑO, MES Y DIA"
   ]
  },
  {
   "cell_type": "code",
   "execution_count": 21,
   "metadata": {},
   "outputs": [],
   "source": [
    "import pandas as pd\n",
    "\n",
    "def añadir_dia_semana_y_guardar(df, archivo_salida):\n",
    "    # Convertir las columnas 'Hora recogida' y 'Hora destino' a datetime\n",
    "    df['Hora recogida'] = pd.to_datetime(df['Hora recogida'])\n",
    "    df['Hora destino'] = pd.to_datetime(df['Hora destino'])\n",
    "\n",
    "    # Crear nuevas columnas para 'Hora recogida'\n",
    "    df['Año recogida'] = df['Hora recogida'].dt.year\n",
    "    df['Mes recogida'] = df['Hora recogida'].dt.month\n",
    "    df['Día recogida'] = df['Hora recogida'].dt.day\n",
    "    df['Día semana recogida'] = df['Hora recogida'].dt.day_name()\n",
    "    # Guardar el DataFrame modificado en un nuevo archivo CSV\n",
    "    df.to_csv(archivo_salida, index=False)\n",
    "    print(f\"Archivo guardado en {archivo_salida}\")\n",
    "\n",
    "\n",
    "\n"
   ]
  },
  {
   "cell_type": "markdown",
   "metadata": {},
   "source": [
    "Implementación"
   ]
  },
  {
   "cell_type": "code",
   "execution_count": 24,
   "metadata": {},
   "outputs": [
    {
     "name": "stdout",
     "output_type": "stream",
     "text": [
      "Archivo guardado en yellowtripmuestranormalizadamodificado.csv\n"
     ]
    }
   ],
   "source": [
    "# Ejemplo de uso\n",
    "archivo_entrada = 'yellowtripmuestranormalizada.csv'\n",
    "archivo_salida = 'yellowtripmuestranormalizadamodificado.csv'\n",
    "\n",
    "# Cargar el archivo CSV\n",
    "yellow = pd.read_csv(archivo_entrada)\n",
    "\n",
    "# Llamar a la función con el DataFrame y el nombre del archivo de salida\n",
    "añadir_dia_semana_y_guardar(yellow, archivo_salida)"
   ]
  }
 ],
 "metadata": {
  "kernelspec": {
   "display_name": "Python 3",
   "language": "python",
   "name": "python3"
  },
  "language_info": {
   "codemirror_mode": {
    "name": "ipython",
    "version": 3
   },
   "file_extension": ".py",
   "mimetype": "text/x-python",
   "name": "python",
   "nbconvert_exporter": "python",
   "pygments_lexer": "ipython3",
   "version": "3.12.4"
  }
 },
 "nbformat": 4,
 "nbformat_minor": 2
}
